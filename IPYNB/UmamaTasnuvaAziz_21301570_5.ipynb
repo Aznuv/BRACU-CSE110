{
  "nbformat": 4,
  "nbformat_minor": 0,
  "metadata": {
    "colab": {
      "name": "UmamaTasnuvaAziz_21301570_5.ipynb",
      "provenance": [],
      "collapsed_sections": []
    },
    "kernelspec": {
      "name": "python3",
      "display_name": "Python 3"
    },
    "language_info": {
      "name": "python"
    }
  },
  "cells": [
    {
      "cell_type": "code",
      "metadata": {
        "colab": {
          "base_uri": "https://localhost:8080/"
        },
        "id": "5-gLfEpdAdNl",
        "outputId": "5fcf2be4-f107-44c5-c5b3-b6dea0ab59e4"
      },
      "source": [
        "#Question_one_answer\n",
        "cast = {'Friends': [('Joey', 'Matt'), ('Chandler', 'Matthew')], 'BBT': [('Penny', 'Kaley'), ('Sheldon', 'Jim')], 'Breaking Bad': [('Jesse', 'Aaron'), ('Walter', 'Bryan')]}\n",
        "actor = input(\"Please, enter the name of the actor: \")\n",
        "for key in cast:\n",
        "    for value in cast[key]:\n",
        "        for nam in value:\n",
        "            if nam == actor:\n",
        "                print(actor, 'played the character', value[0], 'in', key)\n"
      ],
      "execution_count": 17,
      "outputs": [
        {
          "output_type": "stream",
          "name": "stdout",
          "text": [
            "Please, enter the name of the actor: Matt\n",
            "Matt played the character Joey in Friends\n"
          ]
        }
      ]
    },
    {
      "cell_type": "code",
      "metadata": {
        "colab": {
          "base_uri": "https://localhost:8080/"
        },
        "id": "QeFEcsDoHEf9",
        "outputId": "ee625fc8-93d3-43fe-932c-bb08aa3d4197"
      },
      "source": [
        "#Question_two_answer\n",
        "name_data =  [[\"Alice\", [\"A\",\"C\",\"C\",\"A\"]], [\"Sam\", [ \"A\", \"C\", \"B\"]], [\"Amy\", [\"A\",\"E\"]], [\"Robin\", [\"A\"]]]\n",
        "grades = {\"A\":5, \"B\":4, \"C\":3, \"D\":4}\n",
        "for num in range(len(name_data)):\n",
        "    name_data[num][-1].sort()\n",
        "for name, grade in name_data:\n",
        "    if len(grade) < 2:\n",
        "        print(f\"{name}: You must have at least 2 subjects in A level.\")\n",
        "    elif (len(grade) == 2) and ('E' in grade):\n",
        "        print(f\"Sorry {name} the grades allowed in your top 2 grades are only A/B/C/D\")\n",
        "    else:\n",
        "        print(f\"Based on the A level result {name}'s minimum GPA is\", (grades[grade[0]] + grades[grade[1]])/2)"
      ],
      "execution_count": 23,
      "outputs": [
        {
          "output_type": "stream",
          "name": "stdout",
          "text": [
            "Based on the A level result Alice's minimum GPA is 5.0\n",
            "Based on the A level result Sam's minimum GPA is 4.5\n",
            "Sorry Amy the grades allowed in your top 2 grades are only A/B/C/D\n",
            "Robin: You must have at least 2 subjects in A level.\n"
          ]
        }
      ]
    },
    {
      "cell_type": "code",
      "metadata": {
        "colab": {
          "base_uri": "https://localhost:8080/"
        },
        "id": "SRnxXLp4QYGK",
        "outputId": "5f88912a-5758-4396-a6ee-62667b59a528"
      },
      "source": [
        "#Question_three_answer\n",
        "def replacer(sentence, alpha):\n",
        "  vowels = ['a','e','i','o','u','A','E','I','O','U']\n",
        "  new_list = []\n",
        "  new_str = \"\"\n",
        "  if alpha == \"vowels\":\n",
        "    for x in sentence:\n",
        "      if x in vowels:\n",
        "        new_list.append(\"V\")\n",
        "      else:\n",
        "        new_list.append(x) \n",
        "  elif alpha == \"consonants\":\n",
        "    for x in sentence:\n",
        "      if x.isalpha():\n",
        "        if x not in vowels:\n",
        "          new_list.append(\"C\")\n",
        "        else:\n",
        "          new_list.append(x)\n",
        "      else:\n",
        "        new_list.append(x)\n",
        "  for x in new_list:\n",
        "        new_str += x\n",
        "  return new_str\n",
        "\n",
        "user_input = input(\"Please, enter: \")\n",
        "print(replacer(\"It is CSE110 final\", user_input))"
      ],
      "execution_count": 29,
      "outputs": [
        {
          "output_type": "stream",
          "name": "stdout",
          "text": [
            "Please, enter: vowels\n",
            "Vt Vs CSV110 fVnVl\n"
          ]
        }
      ]
    }
  ]
}