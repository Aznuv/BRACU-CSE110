{
  "nbformat": 4,
  "nbformat_minor": 0,
  "metadata": {
    "colab": {
      "name": "Umama_21301570_05.ipynb",
      "provenance": []
    },
    "kernelspec": {
      "name": "python3",
      "display_name": "Python 3"
    },
    "language_info": {
      "name": "python"
    }
  },
  "cells": [
    {
      "cell_type": "markdown",
      "metadata": {
        "id": "cdJNGC_K19Dt"
      },
      "source": [
        "𝗤𝘂𝗲𝘀𝘁𝗶𝗼𝗻:\n",
        "Write a python function that takes a string as an argument. Then converts \n",
        "this string using the following three rules and finally RETURNS a new \n",
        "string to the function call.\n",
        "\n",
        "If the string is one character long, leave it alone.\n",
        "If the string ends with a vowel (a, e, i, o, u), just add ‘yay’ to the \n",
        "beginning of the string. (e.g., “apple” => “yayapple”)\n",
        "Otherwise, the last letter of the string is moved to the front and ‘ay’ is \n",
        "appended to the end (e.g., “dalek” => “kdaleay”)\n",
        "\n",
        "Assume, the argument string will always be in lowercase letters without any \n",
        "spaces. [ You cannot use slicing. You cannot use any built-in functions \n",
        "except input(), len(), split(), list.append(). ]\n",
        "\n",
        "================================================\n",
        "Function call1:\n",
        "function_name(\"b\")\n",
        "Sample Output 1:\n",
        "b\n",
        "Explanation 1:\n",
        "Here, the length of the string is 1, so no modification was done to it.\n",
        "================================================\n",
        "Function call2:\n",
        "function_name(\"apple\")\n",
        "Sample Output 2:\n",
        "yayapple\n",
        "Explanation 2:\n",
        "Here, the length of the string is greater than 1, and it ends with a vowel. \n",
        "So, “yay” was added at the beginning of the string.\n",
        "================================================\n",
        "Function call3:\n",
        "function_name(\"dalek\")\n",
        "Sample Output 3:\n",
        "kdaleay\n",
        "Explanation 3:\n",
        "Here, the length of the string is greater than 1, and it does not end with \n",
        "a vowel. So, the last character ‘k’ was moved to the beginning of the \n",
        "string, and ‘ay’ was added at the end.\n"
      ]
    },
    {
      "cell_type": "code",
      "metadata": {
        "colab": {
          "base_uri": "https://localhost:8080/"
        },
        "id": "lFUWx7mi7tSN",
        "outputId": "81b5c99d-02ab-411c-f5d6-8f0ddf7fdc37"
      },
      "source": [
        "string = input(\"Please, enter a string: \")\n",
        "def function_name(string):\n",
        "    list_1 = list(string)\n",
        "    if len(list_1) == 1:\n",
        "       return string\n",
        "    elif len(list_1) != 1:\n",
        "       if ord(list_1[-1]) == 97:\n",
        "         return ('yay'+string)\n",
        "       elif ord(list_1[-1]) == 101:\n",
        "         return ('yay'+string)\n",
        "       elif ord(list_1[-1]) == 105:\n",
        "         return ('yay'+string)\n",
        "       elif ord(list_1[-1]) == 111:\n",
        "         return ('yay'+string)\n",
        "       elif ord(list_1[-1]) == 117:\n",
        "         return ('yay'+string)\n",
        "       else:\n",
        "            list_1.insert(0,list_1[-1])\n",
        "            list_1[-1]= 'ay'\n",
        "            str_1 = ''\n",
        "            print(str_1.join(list_1))\n",
        "function_name(string)"
      ],
      "execution_count": 6,
      "outputs": [
        {
          "output_type": "stream",
          "name": "stdout",
          "text": [
            "Please, enter a string: dalek\n",
            "kdaleay\n"
          ]
        }
      ]
    }
  ]
}