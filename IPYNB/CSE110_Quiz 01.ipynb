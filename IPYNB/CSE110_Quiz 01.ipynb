{
  "nbformat": 4,
  "nbformat_minor": 0,
  "metadata": {
    "colab": {
      "name": "UmamaTasnuvaAziz_21301570_05.ipynb",
      "provenance": [],
      "collapsed_sections": []
    },
    "kernelspec": {
      "name": "python3",
      "display_name": "Python 3"
    },
    "language_info": {
      "name": "python"
    }
  },
  "cells": [
    {
      "cell_type": "markdown",
      "metadata": {
        "id": "P8TtzP8SvEKL"
      },
      "source": [
        "𝗤𝘂𝗲𝘀𝘁𝗶𝗼𝗻:\n",
        "Write a python program that asks the user for a range (a starting number(inclusive) and an ending number(inclusive)). Then it should print all the numbers that end with (that is the last digit of the number should be) 1, 2, and 7 AND is a multiple of 3 within that range.\n",
        "\n",
        "========================================================\n",
        "Sample Input 1:\n",
        "50\n",
        "60\n",
        "\n",
        "Sample Output 1:\n",
        "51 is a multiple of 3.\n",
        "51 ends with 1\n",
        "=====================\n",
        "57 is a multiple of 3.\n",
        "57 ends with 7\n",
        "=====================\n",
        "\n",
        "Explanation2:\n",
        "Here, 50 is the starting number and 60 is the ending value. Within this range, we have 50,51,52,53,54,55,56,57,58,59,60.  Among these numbers, only 51 and 57 are multiples of 3, and 51 ends with 1, and 57 ends with 7.\n",
        "\n",
        "========================================================\n",
        "Sample Input 2:\n",
        "100\n",
        "140\n",
        "\n",
        "Sample Output 2:\n",
        "102 is a multiple of 3.\n",
        "102 ends with 2\n",
        "=====================\n",
        "111 is a multiple of 3.\n",
        "111 ends with 1\n",
        "=====================\n",
        "117 is a multiple of 3.\n",
        "117 ends with 7\n",
        "=====================\n",
        "132 is a multiple of 3.\n",
        "132 ends with 2\n",
        "====================="
      ]
    },
    {
      "cell_type": "code",
      "metadata": {
        "colab": {
          "base_uri": "https://localhost:8080/",
          "height": 292
        },
        "id": "jlDwhDJzl5mk",
        "outputId": "ab41074e-cf48-4a25-b11b-9248ac57d2c0"
      },
      "source": [
        "x = int(input(\"Please enter a number: \"))\n",
        "y = int(input(\"Please enter a number: \"))\n",
        "data = (x,y)\n",
        "print(\"Input:\", x, y)\n",
        "for count in range(x,y+1):\n",
        "  if (((data.index(-1))==1 or 2 or 7) and count%3==0):\n",
        "    print(count, \"is a multiple of 3\")"
      ],
      "execution_count": 8,
      "outputs": [
        {
          "output_type": "stream",
          "text": [
            "Please enter a number: 50\n",
            "Please enter a number: 60\n",
            "Input: 50 60\n"
          ],
          "name": "stdout"
        },
        {
          "output_type": "error",
          "ename": "ValueError",
          "evalue": "ignored",
          "traceback": [
            "\u001b[0;31m---------------------------------------------------------------------------\u001b[0m",
            "\u001b[0;31mValueError\u001b[0m                                Traceback (most recent call last)",
            "\u001b[0;32m<ipython-input-8-7e09302d1e63>\u001b[0m in \u001b[0;36m<module>\u001b[0;34m()\u001b[0m\n\u001b[1;32m      4\u001b[0m \u001b[0mprint\u001b[0m\u001b[0;34m(\u001b[0m\u001b[0;34m\"Input:\"\u001b[0m\u001b[0;34m,\u001b[0m \u001b[0mx\u001b[0m\u001b[0;34m,\u001b[0m \u001b[0my\u001b[0m\u001b[0;34m)\u001b[0m\u001b[0;34m\u001b[0m\u001b[0;34m\u001b[0m\u001b[0m\n\u001b[1;32m      5\u001b[0m \u001b[0;32mfor\u001b[0m \u001b[0mcount\u001b[0m \u001b[0;32min\u001b[0m \u001b[0mrange\u001b[0m\u001b[0;34m(\u001b[0m\u001b[0mx\u001b[0m\u001b[0;34m,\u001b[0m\u001b[0my\u001b[0m\u001b[0;34m+\u001b[0m\u001b[0;36m1\u001b[0m\u001b[0;34m)\u001b[0m\u001b[0;34m:\u001b[0m\u001b[0;34m\u001b[0m\u001b[0;34m\u001b[0m\u001b[0m\n\u001b[0;32m----> 6\u001b[0;31m   \u001b[0;32mif\u001b[0m \u001b[0;34m(\u001b[0m\u001b[0;34m(\u001b[0m\u001b[0;34m(\u001b[0m\u001b[0mdata\u001b[0m\u001b[0;34m.\u001b[0m\u001b[0mindex\u001b[0m\u001b[0;34m(\u001b[0m\u001b[0;34m-\u001b[0m\u001b[0;36m1\u001b[0m\u001b[0;34m)\u001b[0m\u001b[0;34m)\u001b[0m\u001b[0;34m==\u001b[0m\u001b[0;36m1\u001b[0m \u001b[0;32mor\u001b[0m \u001b[0;36m2\u001b[0m \u001b[0;32mor\u001b[0m \u001b[0;36m7\u001b[0m\u001b[0;34m)\u001b[0m \u001b[0;32mand\u001b[0m \u001b[0mcount\u001b[0m\u001b[0;34m%\u001b[0m\u001b[0;36m3\u001b[0m\u001b[0;34m==\u001b[0m\u001b[0;36m0\u001b[0m\u001b[0;34m)\u001b[0m\u001b[0;34m:\u001b[0m\u001b[0;34m\u001b[0m\u001b[0;34m\u001b[0m\u001b[0m\n\u001b[0m\u001b[1;32m      7\u001b[0m     \u001b[0mprint\u001b[0m\u001b[0;34m(\u001b[0m\u001b[0mcount\u001b[0m\u001b[0;34m,\u001b[0m \u001b[0;34m\"is a multiple of 3\"\u001b[0m\u001b[0;34m)\u001b[0m\u001b[0;34m\u001b[0m\u001b[0;34m\u001b[0m\u001b[0m\n\u001b[1;32m      8\u001b[0m \u001b[0;34m\u001b[0m\u001b[0m\n",
            "\u001b[0;31mValueError\u001b[0m: tuple.index(x): x not in tuple"
          ]
        }
      ]
    },
    {
      "cell_type": "markdown",
      "metadata": {
        "id": "g51eSti5vDUd"
      },
      "source": [
        ""
      ]
    }
  ]
}