{
  "nbformat": 4,
  "nbformat_minor": 0,
  "metadata": {
    "colab": {
      "name": "UmamaTasnuvaAziz_21301570_05.ipynb",
      "provenance": [],
      "collapsed_sections": []
    },
    "kernelspec": {
      "name": "python3",
      "display_name": "Python 3"
    },
    "language_info": {
      "name": "python"
    }
  },
  "cells": [
    {
      "cell_type": "markdown",
      "metadata": {
        "id": "QuZ_B_cl4D0r"
      },
      "source": [
        "Write a python program that will take a string as input from the user.  The \n",
        "input string should have a combination of BOTH the alphabets and the \n",
        "digits. Then, your task is to identify the digits from that input string \n",
        "and store those digits in a list. Finally, sort the list and print the \n",
        "sorted list and the sum of digits as output to the user.\n",
        "\n",
        "Note: You are allowed to use the built-in sort() or sorted() function here.\n",
        "================================\n",
        "Sample Input 01:\n",
        "m4gt567q09y2\n",
        "\n",
        "Sample Output 01:\n",
        "['0', '2', '4', '5', '6', '7', '9']\n",
        "33\n",
        "\n",
        "Explanation 01:\n",
        "Here from the given input string, the digits are stored in a list. After \n",
        "sorting the digits, the sorted list is printed to the user. Then, the sum \n",
        "of the digit which is 33 is printed.\n",
        "\n",
        "================================\n",
        "Sample Input 02:\n",
        "954217\n",
        "\n",
        "Sample Output 02:\n",
        "There is no alphabet in the string\n",
        "\n",
        "Explanation 02:\n",
        "Here from the given input string, there is no alphabet in the string. That \n",
        "is why it is printing “There is no alphabet in the string”\n",
        "================================\n",
        "Sample Input 03:\n",
        "abcdefgh\n",
        "\n",
        "Sample Output 03:\n",
        "There is no digit in the string\n",
        "\n",
        "Explanation 03: Here from the given input string, there is no digit in the \n",
        "string. That is why it is printing “There is no digit in the string”\n",
        "## New Section"
      ]
    },
    {
      "cell_type": "code",
      "metadata": {
        "colab": {
          "base_uri": "https://localhost:8080/",
          "height": 129
        },
        "id": "yiJn5xww7ekJ",
        "outputId": "29b34cee-d5bd-4234-fdee-6a04bf59dcb0"
      },
      "source": [
        "x = str(input(\"Please, input: \"))\n",
        "y = []\n",
        "for i in x:\n",
        "  if x.isnumeric():\n",
        "    print(y)\n",
        "elif i!= y:\n",
        "  print(\"There is no digit in the string\")\n",
        "else:\n",
        "  print('There is no digit in the string')"
      ],
      "execution_count": 12,
      "outputs": [
        {
          "output_type": "error",
          "ename": "SyntaxError",
          "evalue": "ignored",
          "traceback": [
            "\u001b[0;36m  File \u001b[0;32m\"<ipython-input-12-f034d5208f66>\"\u001b[0;36m, line \u001b[0;32m6\u001b[0m\n\u001b[0;31m    elif i!= y:\u001b[0m\n\u001b[0m       ^\u001b[0m\n\u001b[0;31mSyntaxError\u001b[0m\u001b[0;31m:\u001b[0m invalid syntax\n"
          ]
        }
      ]
    }
  ]
}